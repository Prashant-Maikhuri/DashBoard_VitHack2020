{
 "cells": [
  {
   "cell_type": "code",
   "execution_count": 1,
   "metadata": {},
   "outputs": [],
   "source": [
    "import numpy as np\n",
    "import tensorflow as tf\n",
    "from tensorflow.keras.layers import Input,Dense,LSTM\n",
    "from tensorflow.keras.models import Model\n",
    "import matplotlib.pyplot as plt\n",
    "import pandas as pd\n"
   ]
  },
  {
   "cell_type": "code",
   "execution_count": 2,
   "metadata": {},
   "outputs": [
    {
     "name": "stdout",
     "output_type": "stream",
     "text": [
      "      1.000000000000000000e+00  9.003241658210754395e-01  \\\n",
      "0                     1.000000                  0.794681   \n",
      "1                     0.909029                  0.791482   \n",
      "2                     1.000000                  0.478893   \n",
      "3                     1.000000                  0.867238   \n",
      "4                     0.948983                  0.505265   \n",
      "...                        ...                       ...   \n",
      "4040                  1.000000                  0.929586   \n",
      "4041                  1.000000                  0.637579   \n",
      "4042                  1.000000                  0.872574   \n",
      "4043                  0.915983                  0.529373   \n",
      "4044                  1.000000                  0.838643   \n",
      "\n",
      "      3.585899472236633301e-01  5.145867168903350830e-02  \\\n",
      "0                     0.375387                  0.116883   \n",
      "1                     0.423169                  0.186712   \n",
      "2                     0.056760                  0.064176   \n",
      "3                     0.201360                  0.099349   \n",
      "4                     0.004176                  0.022513   \n",
      "...                        ...                       ...   \n",
      "4040                  0.503550                  0.293491   \n",
      "4041                  0.154837                  0.061983   \n",
      "4042                  0.465071                  0.232212   \n",
      "4043                  0.288406                  0.144536   \n",
      "4044                  0.390567                  0.191146   \n",
      "\n",
      "      4.659643396735191345e-02  1.268233358860015869e-01  \\\n",
      "0                     0.000000                  0.171923   \n",
      "1                     0.000000                  0.007836   \n",
      "2                     0.081289                  0.072732   \n",
      "3                     0.141336                  0.120934   \n",
      "4                     0.059550                  0.107298   \n",
      "...                        ...                       ...   \n",
      "4040                  0.169822                  0.159763   \n",
      "4041                  0.088965                  0.083374   \n",
      "4042                  0.126132                  0.155886   \n",
      "4043                  0.171802                  0.180669   \n",
      "4044                  0.033513                  0.055854   \n",
      "\n",
      "      1.333063244819641113e-01  1.191247999668121338e-01  \\\n",
      "0                     0.283859                  0.293754   \n",
      "1                     0.063032                  0.077002   \n",
      "2                     0.055619                  0.048774   \n",
      "3                     0.108516                  0.096393   \n",
      "4                     0.110385                  0.111293   \n",
      "...                        ...                       ...   \n",
      "4040                  0.130769                  0.125444   \n",
      "4041                  0.065143                  0.057365   \n",
      "4042                  0.174644                  0.190168   \n",
      "4043                  0.177566                  0.176458   \n",
      "4044                  0.129086                  0.147290   \n",
      "\n",
      "      1.106158867478370667e-01  1.130470037460327148e-01  ...  \\\n",
      "0                     0.325912                  0.345083  ...   \n",
      "1                     0.074957                  0.077342  ...   \n",
      "2                     0.054478                  0.041643  ...   \n",
      "3                     0.093436                  0.100828  ...   \n",
      "4                     0.116558                  0.118192  ...   \n",
      "...                        ...                       ...  ...   \n",
      "4040                  0.137278                  0.111243  ...   \n",
      "4041                  0.060039                  0.060039  ...   \n",
      "4042                  0.203752                  0.168823  ...   \n",
      "4043                  0.178896                  0.180448  ...   \n",
      "4044                  0.155151                  0.165494  ...   \n",
      "\n",
      "      0.000000000000000000e+00.56  0.000000000000000000e+00.57  \\\n",
      "0                             0.0                          0.0   \n",
      "1                             0.0                          0.0   \n",
      "2                             0.0                          0.0   \n",
      "3                             0.0                          0.0   \n",
      "4                             0.0                          0.0   \n",
      "...                           ...                          ...   \n",
      "4040                          0.0                          0.0   \n",
      "4041                          0.0                          0.0   \n",
      "4042                          0.0                          0.0   \n",
      "4043                          0.0                          0.0   \n",
      "4044                          0.0                          0.0   \n",
      "\n",
      "      0.000000000000000000e+00.58  0.000000000000000000e+00.59  \\\n",
      "0                             0.0                          0.0   \n",
      "1                             0.0                          0.0   \n",
      "2                             0.0                          0.0   \n",
      "3                             0.0                          0.0   \n",
      "4                             0.0                          0.0   \n",
      "...                           ...                          ...   \n",
      "4040                          0.0                          0.0   \n",
      "4041                          0.0                          0.0   \n",
      "4042                          0.0                          0.0   \n",
      "4043                          0.0                          0.0   \n",
      "4044                          0.0                          0.0   \n",
      "\n",
      "      0.000000000000000000e+00.60  0.000000000000000000e+00.61  \\\n",
      "0                             0.0                          0.0   \n",
      "1                             0.0                          0.0   \n",
      "2                             0.0                          0.0   \n",
      "3                             0.0                          0.0   \n",
      "4                             0.0                          0.0   \n",
      "...                           ...                          ...   \n",
      "4040                          0.0                          0.0   \n",
      "4041                          0.0                          0.0   \n",
      "4042                          0.0                          0.0   \n",
      "4043                          0.0                          0.0   \n",
      "4044                          0.0                          0.0   \n",
      "\n",
      "      0.000000000000000000e+00.62  0.000000000000000000e+00.63  \\\n",
      "0                             0.0                          0.0   \n",
      "1                             0.0                          0.0   \n",
      "2                             0.0                          0.0   \n",
      "3                             0.0                          0.0   \n",
      "4                             0.0                          0.0   \n",
      "...                           ...                          ...   \n",
      "4040                          0.0                          0.0   \n",
      "4041                          0.0                          0.0   \n",
      "4042                          0.0                          0.0   \n",
      "4043                          0.0                          0.0   \n",
      "4044                          0.0                          0.0   \n",
      "\n",
      "      0.000000000000000000e+00.64  0.000000000000000000e+00.65  \n",
      "0                             0.0                          0.0  \n",
      "1                             0.0                          0.0  \n",
      "2                             0.0                          0.0  \n",
      "3                             0.0                          0.0  \n",
      "4                             0.0                          0.0  \n",
      "...                           ...                          ...  \n",
      "4040                          0.0                          0.0  \n",
      "4041                          0.0                          0.0  \n",
      "4042                          0.0                          0.0  \n",
      "4043                          0.0                          0.0  \n",
      "4044                          0.0                          0.0  \n",
      "\n",
      "[4045 rows x 188 columns]\n"
     ]
    }
   ],
   "source": [
    "df=pd.read_csv(r\"E:\\ptdb normal\\ptbdb_normal.csv\")\n",
    "print(df)\n"
   ]
  },
  {
   "cell_type": "code",
   "execution_count": 3,
   "metadata": {},
   "outputs": [
    {
     "name": "stdout",
     "output_type": "stream",
     "text": [
      "       9.322328567504882812e-01  8.696785569190979004e-01  \\\n",
      "0                      1.000000                  0.606941   \n",
      "1                      1.000000                  0.951613   \n",
      "2                      0.977819                  0.899261   \n",
      "3                      0.935618                  0.801661   \n",
      "4                      0.925265                  0.433352   \n",
      "...                         ...                       ...   \n",
      "10500                  0.981409                  1.000000   \n",
      "10501                  0.906250                  0.922379   \n",
      "10502                  1.000000                  0.867971   \n",
      "10503                  1.000000                  0.984672   \n",
      "10504                  0.997886                  0.700317   \n",
      "\n",
      "       8.861859440803527832e-01  9.296264052391052246e-01  \\\n",
      "0                      0.384181                  0.254237   \n",
      "1                      0.923963                  0.853303   \n",
      "2                      0.230129                  0.032348   \n",
      "3                      0.805815                  1.000000   \n",
      "4                      0.073620                  0.079197   \n",
      "...                         ...                       ...   \n",
      "10500                  0.559171                  0.287093   \n",
      "10501                  0.878024                  0.810484   \n",
      "10502                  0.674122                  0.470332   \n",
      "10503                  0.658888                  0.556394   \n",
      "10504                  0.464059                  0.318182   \n",
      "\n",
      "       9.087749719619750977e-01  9.339704513549804688e-01  \\\n",
      "0                      0.223567                  0.276836   \n",
      "1                      0.791859                  0.734255   \n",
      "2                      0.142329                  0.223660   \n",
      "3                      0.722741                  0.480789   \n",
      "4                      0.136643                  0.182934   \n",
      "...                         ...                       ...   \n",
      "10500                  0.196639                  0.204862   \n",
      "10501                  0.712702                  0.667339   \n",
      "10502                  0.296987                  0.169307   \n",
      "10503                  0.446809                  0.395790   \n",
      "10504                  0.233615                  0.184989   \n",
      "\n",
      "       8.010425567626953125e-01  7.497828006744384766e-01  \\\n",
      "0                      0.253430                  0.184826   \n",
      "1                      0.672043                  0.685100   \n",
      "2                      0.328096                  0.367837   \n",
      "3                      0.454829                  0.319834   \n",
      "4                      0.182934                  0.182376   \n",
      "...                         ...                       ...   \n",
      "10500                  0.215946                  0.243833   \n",
      "10501                  0.608871                  0.527218   \n",
      "10502                  0.077664                  0.081392   \n",
      "10503                  0.315260                  0.276367   \n",
      "10504                  0.124207                  0.082981   \n",
      "\n",
      "       6.872285008430480957e-01  6.350998878479003906e-01  ...  \\\n",
      "0                      0.153349                  0.121872  ...   \n",
      "1                      0.670507                  0.667435  ...   \n",
      "2                      0.381701                  0.389094  ...   \n",
      "3                      0.266874                  0.308411  ...   \n",
      "4                      0.196877                  0.203569  ...   \n",
      "...                         ...                       ...  ...   \n",
      "10500                  0.242760                  0.250268  ...   \n",
      "10501                  0.480847                  0.442540  ...   \n",
      "10502                  0.074868                  0.089779  ...   \n",
      "10503                  0.261039                  0.258522  ...   \n",
      "10504                  0.087738                  0.063953  ...   \n",
      "\n",
      "       0.000000000000000000e+00.117  0.000000000000000000e+00.118  \\\n",
      "0                               0.0                           0.0   \n",
      "1                               0.0                           0.0   \n",
      "2                               0.0                           0.0   \n",
      "3                               0.0                           0.0   \n",
      "4                               0.0                           0.0   \n",
      "...                             ...                           ...   \n",
      "10500                           0.0                           0.0   \n",
      "10501                           0.0                           0.0   \n",
      "10502                           0.0                           0.0   \n",
      "10503                           0.0                           0.0   \n",
      "10504                           0.0                           0.0   \n",
      "\n",
      "       0.000000000000000000e+00.119  0.000000000000000000e+00.120  \\\n",
      "0                               0.0                           0.0   \n",
      "1                               0.0                           0.0   \n",
      "2                               0.0                           0.0   \n",
      "3                               0.0                           0.0   \n",
      "4                               0.0                           0.0   \n",
      "...                             ...                           ...   \n",
      "10500                           0.0                           0.0   \n",
      "10501                           0.0                           0.0   \n",
      "10502                           0.0                           0.0   \n",
      "10503                           0.0                           0.0   \n",
      "10504                           0.0                           0.0   \n",
      "\n",
      "       0.000000000000000000e+00.121  0.000000000000000000e+00.122  \\\n",
      "0                               0.0                           0.0   \n",
      "1                               0.0                           0.0   \n",
      "2                               0.0                           0.0   \n",
      "3                               0.0                           0.0   \n",
      "4                               0.0                           0.0   \n",
      "...                             ...                           ...   \n",
      "10500                           0.0                           0.0   \n",
      "10501                           0.0                           0.0   \n",
      "10502                           0.0                           0.0   \n",
      "10503                           0.0                           0.0   \n",
      "10504                           0.0                           0.0   \n",
      "\n",
      "       0.000000000000000000e+00.123  0.000000000000000000e+00.124  \\\n",
      "0                               0.0                           0.0   \n",
      "1                               0.0                           0.0   \n",
      "2                               0.0                           0.0   \n",
      "3                               0.0                           0.0   \n",
      "4                               0.0                           0.0   \n",
      "...                             ...                           ...   \n",
      "10500                           0.0                           0.0   \n",
      "10501                           0.0                           0.0   \n",
      "10502                           0.0                           0.0   \n",
      "10503                           0.0                           0.0   \n",
      "10504                           0.0                           0.0   \n",
      "\n",
      "       0.000000000000000000e+00.125  1.000000000000000000e+00.1  \n",
      "0                               0.0                         1.0  \n",
      "1                               0.0                         1.0  \n",
      "2                               0.0                         1.0  \n",
      "3                               0.0                         1.0  \n",
      "4                               0.0                         1.0  \n",
      "...                             ...                         ...  \n",
      "10500                           0.0                         1.0  \n",
      "10501                           0.0                         1.0  \n",
      "10502                           0.0                         1.0  \n",
      "10503                           0.0                         1.0  \n",
      "10504                           0.0                         1.0  \n",
      "\n",
      "[10505 rows x 188 columns]\n"
     ]
    }
   ],
   "source": [
    "df2=pd.read_csv(r\"E:\\ptdb abnormal\\ptbdb_abnormal.csv\")\n",
    "print(df2)\n"
   ]
  },
  {
   "cell_type": "code",
   "execution_count": 4,
   "metadata": {},
   "outputs": [],
   "source": [
    "g=np.zeros((1200,188,1))\n",
    "h=np.zeros((1200,1))\n",
    "for i in range(1200):\n",
    "    g[i,:,:]=np.array(np.expand_dims(df.iloc(axis=0)[i],-1))\n",
    "    h[i,:]=np.array(1)\n",
    "    \n",
    "    "
   ]
  },
  {
   "cell_type": "code",
   "execution_count": 5,
   "metadata": {},
   "outputs": [
    {
     "data": {
      "text/plain": [
       "(1200, 188, 1)"
      ]
     },
     "execution_count": 5,
     "metadata": {},
     "output_type": "execute_result"
    }
   ],
   "source": [
    "g.shape"
   ]
  },
  {
   "cell_type": "code",
   "execution_count": 6,
   "metadata": {},
   "outputs": [
    {
     "data": {
      "text/plain": [
       "array([[1.],\n",
       "       [1.],\n",
       "       [1.],\n",
       "       [1.],\n",
       "       [1.],\n",
       "       [1.],\n",
       "       [1.],\n",
       "       [1.],\n",
       "       [1.],\n",
       "       [1.],\n",
       "       [1.],\n",
       "       [1.],\n",
       "       [1.],\n",
       "       [1.],\n",
       "       [1.],\n",
       "       [1.],\n",
       "       [1.],\n",
       "       [1.],\n",
       "       [1.]])"
      ]
     },
     "execution_count": 6,
     "metadata": {},
     "output_type": "execute_result"
    }
   ],
   "source": [
    "h[1:20]\n"
   ]
  },
  {
   "cell_type": "code",
   "execution_count": 7,
   "metadata": {},
   "outputs": [],
   "source": [
    "#g=np.zeros((len(df)+len(df2),188,1))\n",
    "#h=np.zeros((len(df)+len(df2),1))\n",
    "for i in range(1200):\n",
    "    g[i,:,:]=np.array(np.expand_dims(df2.iloc(axis=0)[i],-1))\n",
    "    h[i,:]=np.array(0)"
   ]
  },
  {
   "cell_type": "code",
   "execution_count": 13,
   "metadata": {},
   "outputs": [
    {
     "data": {
      "text/plain": [
       "Text(0.5, 1.0, 'X train set')"
      ]
     },
     "execution_count": 13,
     "metadata": {},
     "output_type": "execute_result"
    },
    {
     "data": {
      "image/png": "[encoded data removed]",
      "text/plain": [
       "<Figure size 432x288 with 1 Axes>"
      ]
     },
     "metadata": {
      "needs_background": "light"
     },
     "output_type": "display_data"
    }
   ],
   "source": [
    "plt.plot(g[1])\n",
    "plt.ylabel('ECG reading')\n",
    "plt.xlabel('Time')\n",
    "plt.title('X train set')"
   ]
  },
  {
   "cell_type": "code",
   "execution_count": 9,
   "metadata": {},
   "outputs": [
    {
     "name": "stdout",
     "output_type": "stream",
     "text": [
      "[0.]\n"
     ]
    },
    {
     "data": {
      "image/png": "[encoded data removed]",
      "text/plain": [
       "<Figure size 432x288 with 1 Axes>"
      ]
     },
     "metadata": {
      "needs_background": "light"
     },
     "output_type": "display_data"
    }
   ],
   "source": [
    "plt.plot(g[100])\n",
    "print(h[10])\n"
   ]
  },
  {
   "cell_type": "code",
   "execution_count": 10,
   "metadata": {},
   "outputs": [],
   "source": [
    "i=Input(shape=g[0].shape)\n",
    "x=LSTM(50)(i)\n",
    "x=Dense(1,activation=\"sigmoid\")(x)\n",
    "model=Model(i,x)"
   ]
  },
  {
   "cell_type": "code",
   "execution_count": 11,
   "metadata": {},
   "outputs": [
    {
     "name": "stdout",
     "output_type": "stream",
     "text": [
      "34/34 [==============================] - 2s 69ms/step - loss: 0.3254 - accuracy: 0.9407 - val_loss: 0.0033 - val_accuracy: 1.0000\n"
     ]
    }
   ],
   "source": [
    " r=model.compile(optimizer=\"adam\",loss=\"binary_crossentropy\",metrics=[\"accuracy\"])\n",
    " b=model.fit(g,h,validation_split=0.1,epochs=1)\n"
   ]
  },
  {
   "cell_type": "code",
   "execution_count": 12,
   "metadata": {},
   "outputs": [
    {
     "data": {
      "image/png": "[encoded data removed]",
      "text/plain": [
       "<Figure size 432x288 with 1 Axes>"
      ]
     },
     "metadata": {
      "needs_background": "light"
     },
     "output_type": "display_data"
    }
   ],
   "source": [
    "plt.plot(b.history['loss'])\n",
    "plt.plot(b.history['val_loss'])\n",
    "plt.title('model loss')\n",
    "plt.show()"
   ]
  },
  {
   "cell_type": "code",
   "execution_count": 13,
   "metadata": {},
   "outputs": [
    {
     "data": {
      "image/png": "[encoded data removed]",
      "text/plain": [
       "<Figure size 432x288 with 1 Axes>"
      ]
     },
     "metadata": {
      "needs_background": "light"
     },
     "output_type": "display_data"
    }
   ],
   "source": [
    "plt.plot(b.history['accuracy'])\n",
    "plt.plot(b.history['val_accuracy'])\n",
    "plt.title('model loss')\n",
    "plt.show()"
   ]
  },
  {
   "cell_type": "code",
   "execution_count": null,
   "metadata": {},
   "outputs": [],
   "source": []
  }
 ],
 "metadata": {
  "kernelspec": {
   "display_name": "Python 3",
   "language": "python",
   "name": "python3"
  },
  "language_info": {
   "codemirror_mode": {
    "name": "ipython",
    "version": 3
   },
   "file_extension": ".py",
   "mimetype": "text/x-python",
   "name": "python",
   "nbconvert_exporter": "python",
   "pygments_lexer": "ipython3",
   "version": "3.8.5"
  }
 },
 "nbformat": 4,
 "nbformat_minor": 4
}
